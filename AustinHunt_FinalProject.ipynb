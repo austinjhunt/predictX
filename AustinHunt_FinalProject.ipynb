{
 "cells": [
  {
   "cell_type": "markdown",
   "metadata": {},
   "source": [
    "# 334 Final Project: Predict X Challenge\n",
    "# Name: Austin Hunt\n",
    "# Professor: Dr. Anderson\n",
    "# Date of Completion: April 28, 2018"
   ]
  },
  {
   "cell_type": "markdown",
   "metadata": {},
   "source": [
    "### Step 1: Get the data"
   ]
  },
  {
   "cell_type": "code",
   "execution_count": 34,
   "metadata": {
    "collapsed": true
   },
   "outputs": [],
   "source": [
    "import pandas as pd\n",
    "import numpy as np\n",
    "import os \n",
    "import sklearn\n",
    "# Data preparation\n",
    "from sklearn.preprocessing import StandardScaler\n",
    "# Plotting\n",
    "import graphviz\n",
    "from sklearn import tree\n",
    "import matplotlib.pyplot as plt\n",
    "%matplotlib inline\n",
    "\n",
    "os.chdir('/Users/austinhunt/Downloads/')\n",
    "\n",
    "df = pd.read_csv('expenses.csv')\n",
    " "
   ]
  },
  {
   "cell_type": "markdown",
   "metadata": {},
   "source": [
    "### What does the data look like? "
   ]
  },
  {
   "cell_type": "code",
   "execution_count": 35,
   "metadata": {},
   "outputs": [
    {
     "name": "stdout",
     "output_type": "stream",
     "text": [
      "       Unnamed: 0                            type  \\\n",
      "0               0   11 Move accompanying measures   \n",
      "1               1   Stationary Postage & Printing   \n",
      "2               2                    Meals-No GST   \n",
      "3               3     06 Dinner - Drink (20% VAT)   \n",
      "4               4       Parking/Tolls/Cong Charge   \n",
      "5               5  Lunch when  at NON client site   \n",
      "6               6                             NaN   \n",
      "7               7  Lunch when  at NON client site   \n",
      "8               8             Lunch (Max 22€) F/C   \n",
      "9               9       Parking/Tolls/Cong Charge   \n",
      "10             10                      Rental car   \n",
      "11             11                        06 Lunch   \n",
      "12             12                            Taxi   \n",
      "13             13                     others 19 %   \n",
      "14             14                         Parking   \n",
      "15             15                Toll Fee (Local)   \n",
      "16             16                            Rail   \n",
      "17             17            Taxi - Travelled KMs   \n",
      "18             18    Communications-Telephone/Fax   \n",
      "19             19                            Rail   \n",
      "20             20  Lunch when  at NON client site   \n",
      "21             21                         Airfare   \n",
      "22             22      01 Transports (occasional)   \n",
      "23             23                             Bus   \n",
      "24             24                             NaN   \n",
      "25             25                             NaN   \n",
      "26             26                             NaN   \n",
      "27             27                   UK - Per Diem   \n",
      "28             28  Other Expenses-PublicTransport   \n",
      "29             29      Eve Meal re overnight stay   \n",
      "...           ...                             ...   \n",
      "69970       69970                     others 19 %   \n",
      "69971       69971   Fuel Hire /Pool Car/Fuel Card   \n",
      "69972       69972      Meals - Business Or Travel   \n",
      "69973       69973                   Agency rights   \n",
      "69974       69974                             NaN   \n",
      "69975       69975                             NaN   \n",
      "69976       69976                   Other - Tolls   \n",
      "69977       69977      Meals - Business Or Travel   \n",
      "69978       69978                      05 Parking   \n",
      "69979       69979             Lunch (Max 22€) F/C   \n",
      "69980       69980                             NaN   \n",
      "69981       69981      05 Mileage allowances BULL   \n",
      "69982       69982             Other - Incidentals   \n",
      "69983       69983          Currency exchange fees   \n",
      "69984       69984  Entertainment/ Gift & presents   \n",
      "69985       69985                        06 Lunch   \n",
      "69986       69986                            Taxi   \n",
      "69987       69987                             NaN   \n",
      "69988       69988                        Gasoline   \n",
      "69989       69989                             NaN   \n",
      "69990       69990              Telephone - Mobile   \n",
      "69991       69991  Hotel  domestic 19% breakf,etc   \n",
      "69992       69992            Per Diem (Cambridge)   \n",
      "69993       69993               Per diem - Dinner   \n",
      "69994       69994                  Total Per diem   \n",
      "69995       69995                           Taxis   \n",
      "69996       69996                 06 Dinner Paris   \n",
      "69997       69997            Telephone - Internet   \n",
      "69998       69998                    Phone charge   \n",
      "69999       69999                     Underground   \n",
      "\n",
      "                                description                   country  \\\n",
      "0                          péage Duplex A86                    France   \n",
      "1                      Purchased a notebook            United Kingdom   \n",
      "2                  Meals - During Fortnight                 Australia   \n",
      "3                                    Airbus                    France   \n",
      "4                   Parking for assessments            United Kingdom   \n",
      "5                                   Glasgow            United Kingdom   \n",
      "6                     38.00 miles travelled                 Flat rate   \n",
      "7                         Lunch NHS Cumbria            United Kingdom   \n",
      "8                                       NaN                     Italy   \n",
      "9                                CPL duties            United Kingdom   \n",
      "10                     Hertz Autovermietung                Luxembourg   \n",
      "11               repas midi deplacement aix                    France   \n",
      "12                BBVA Castor Due Diligence                     Spain   \n",
      "13     Amazon RFechnung 305-2716752-1856321                   Germany   \n",
      "14                                      NaN                   Germany   \n",
      "15                                      NaN                  Thailand   \n",
      "16                                    Train            United Kingdom   \n",
      "17                                      NaN                 Argentina   \n",
      "18                                      NaN  United States of America   \n",
      "19                        Client Site Based            United Kingdom   \n",
      "20                                    Lunch            United Kingdom   \n",
      "21                 Flug Hamburg-Muc-Hamburg                   Germany   \n",
      "22                                     Lyon                    France   \n",
      "23         Service Manager Finance training            United Kingdom   \n",
      "24                    30.00 miles travelled                 Flat rate   \n",
      "25                   840.00 miles travelled                 Flat rate   \n",
      "26                                      NaN                   Germany   \n",
      "27     Over night stay for stage 2 training            United Kingdom   \n",
      "28          Transport expenses (no receipt)                    Turkey   \n",
      "29            Evening Meal - Overnight Stay            United Kingdom   \n",
      "...                                     ...                       ...   \n",
      "69970                 reservation for train                       NaN   \n",
      "69971                    fuel for hire care            United Kingdom   \n",
      "69972                          Meal - Lunch  United States of America   \n",
      "69973                                   NaN                       NaN   \n",
      "69974                  Meals for 1 day trip                 Flat rate   \n",
      "69975                  Meals for 4 day trip                 Flat rate   \n",
      "69976        Toll - Tappan Zee bridge 05.26  United States of America   \n",
      "69977                                  Meal  United States of America   \n",
      "69978                      Parking Aeroport                    France   \n",
      "69979                                   NaN                     Italy   \n",
      "69980                  Meals for 2 day trip                 Flat rate   \n",
      "69981                       AR AIX GARE TGV                    France   \n",
      "69982            Buy food from super market                    Mexico   \n",
      "69983                                   NaN                     India   \n",
      "69984  Diner with  I&C dept, Mr.Tan, 6 Pers                     China   \n",
      "69985                            Sushi love                    France   \n",
      "69986                                   NaN                    France   \n",
      "69987                  Meals for 1 day trip                 Flat rate   \n",
      "69988                                 Shell  United States of America   \n",
      "69989                                   NaN                       NaN   \n",
      "69990                                   NaN                     India   \n",
      "69991           Hotel-Restaurant Elbeschtal                   Germany   \n",
      "69992                                   NaN               Switzerland   \n",
      "69993                                   NaN                    Canada   \n",
      "69994                                   NaN                    France   \n",
      "69995                       Station to Home            United Kingdom   \n",
      "69996                            Repas soir                    France   \n",
      "69997                                   NaN                     India   \n",
      "69998                     July phone charge                     China   \n",
      "69999                                  tube            United Kingdom   \n",
      "\n",
      "         amount  amount_per_day claim_type   is_food  \n",
      "0        6.1799          0.2131    Receipt  non-food  \n",
      "1        4.8685          4.8685    Receipt  non-food  \n",
      "2        4.1459          4.1459    Receipt      food  \n",
      "3       21.7999         21.7999    Receipt      food  \n",
      "4       14.9240         14.9240    Receipt  non-food  \n",
      "5        6.8388          6.8388    Receipt      food  \n",
      "6       11.3999         11.3999   Per diem  non-food  \n",
      "7        8.5500          8.5500    Receipt      food  \n",
      "8       10.9999         10.9999    Receipt      food  \n",
      "9        6.0066          6.0066    Receipt  non-food  \n",
      "10      89.4899         44.7449    Receipt  non-food  \n",
      "11      10.4999         10.4999    Receipt      food  \n",
      "12      10.0499         10.0499    Receipt  non-food  \n",
      "13      78.9499         78.9499    Receipt  non-food  \n",
      "14       3.4999          3.4999    Receipt  non-food  \n",
      "15       1.2743          1.2743    Receipt  non-food  \n",
      "16      54.4896         54.4896    Receipt  non-food  \n",
      "17       8.4241          8.4241    Receipt  non-food  \n",
      "18       6.7244          0.1120    Receipt  non-food  \n",
      "19      10.2240         10.2240    Receipt  non-food  \n",
      "20       7.7061          7.7061    Receipt      food  \n",
      "21     564.7499        564.7499    Receipt  non-food  \n",
      "22      15.8999          7.9499    Receipt  non-food  \n",
      "23       3.3462          3.3462    Receipt  non-food  \n",
      "24       9.0000          9.0000   Per diem  non-food  \n",
      "25     358.1999         11.5548   Per diem  non-food  \n",
      "26      11.9999         11.9999    Receipt       NaN  \n",
      "27      29.4000         29.4000    Receipt      food  \n",
      "28      15.6952          0.9232    Receipt  non-food  \n",
      "29      28.1502         28.1502    Receipt      food  \n",
      "...         ...             ...        ...       ...  \n",
      "69970    4.4999          4.4999    Receipt  non-food  \n",
      "69971   17.7296         17.7296    Receipt  non-food  \n",
      "69972   10.1975         10.1975    Receipt      food  \n",
      "69973   12.0999          3.0249    Receipt  non-food  \n",
      "69974   11.9999         11.9999   Per diem      food  \n",
      "69975  177.9099         44.4774   Per diem      food  \n",
      "69976    4.4850          4.4850    Receipt  non-food  \n",
      "69977   11.1302         11.1302    Receipt      food  \n",
      "69978   12.4099          2.4819    Receipt  non-food  \n",
      "69979   11.1999         11.1999    Receipt      food  \n",
      "69980   19.1999          9.5999   Per diem      food  \n",
      "69981    5.9499          5.9499    Receipt  non-food  \n",
      "69982   24.2883          1.3493    Receipt  non-food  \n",
      "69983   10.7499          0.2756    Receipt  non-food  \n",
      "69984   49.8292         49.8292    Receipt  non-food  \n",
      "69985   11.9999         11.9999    Receipt      food  \n",
      "69986   24.9999         24.9999    Receipt  non-food  \n",
      "69987   11.9999         11.9999   Per diem      food  \n",
      "69988    9.6574          1.6095    Receipt  non-food  \n",
      "69989   85.0000         17.0000    Receipt       NaN  \n",
      "69990    9.8675          0.3289    Receipt  non-food  \n",
      "69991    4.9999          2.4999    Receipt  non-food  \n",
      "69992  124.3476         11.3043    Receipt      food  \n",
      "69993   28.5999         28.5999    Receipt      food  \n",
      "69994   39.9999         39.9999    Receipt      food  \n",
      "69995   13.6700         13.6700    Receipt  non-food  \n",
      "69996   22.9999         22.9999    Receipt      food  \n",
      "69997   14.4252          0.4808    Receipt  non-food  \n",
      "69998   20.0079         20.0079    Receipt  non-food  \n",
      "69999    6.4100          6.4100    Receipt  non-food  \n",
      "\n",
      "[70000 rows x 8 columns]\n",
      "\n",
      "Number of records: 70000\n",
      "Number of columns: 8\n",
      "\n",
      "Number of unique values for each column\n",
      "Unnamed: 0     70000\n",
      "type             808\n",
      "description    27617\n",
      "country          111\n",
      "claim_type         2\n",
      "is_food            2\n",
      "dtype: int64\n",
      "\n",
      "Do columns have a null value?\n",
      "Unnamed: 0        False\n",
      "type               True\n",
      "description        True\n",
      "country            True\n",
      "amount            False\n",
      "amount_per_day    False\n",
      "claim_type        False\n",
      "is_food            True\n",
      "dtype: bool\n",
      "\n",
      "How many rows have any null values?\n",
      "False    44524\n",
      "True     25476\n",
      "dtype: int64\n",
      "\n",
      "Number of null values per column?\n"
     ]
    },
    {
     "data": {
      "text/html": [
       "<div>\n",
       "<style>\n",
       "    .dataframe thead tr:only-child th {\n",
       "        text-align: right;\n",
       "    }\n",
       "\n",
       "    .dataframe thead th {\n",
       "        text-align: left;\n",
       "    }\n",
       "\n",
       "    .dataframe tbody tr th {\n",
       "        vertical-align: top;\n",
       "    }\n",
       "</style>\n",
       "<table border=\"1\" class=\"dataframe\">\n",
       "  <thead>\n",
       "    <tr style=\"text-align: right;\">\n",
       "      <th></th>\n",
       "      <th>Unnamed: 0</th>\n",
       "      <th>type</th>\n",
       "      <th>description</th>\n",
       "      <th>country</th>\n",
       "      <th>amount</th>\n",
       "      <th>amount_per_day</th>\n",
       "      <th>claim_type</th>\n",
       "      <th>is_food</th>\n",
       "    </tr>\n",
       "  </thead>\n",
       "  <tbody>\n",
       "    <tr>\n",
       "      <th>False</th>\n",
       "      <td>70000.0</td>\n",
       "      <td>60645</td>\n",
       "      <td>53819</td>\n",
       "      <td>68880</td>\n",
       "      <td>70000.0</td>\n",
       "      <td>70000.0</td>\n",
       "      <td>70000.0</td>\n",
       "      <td>68647</td>\n",
       "    </tr>\n",
       "    <tr>\n",
       "      <th>True</th>\n",
       "      <td>NaN</td>\n",
       "      <td>9355</td>\n",
       "      <td>16181</td>\n",
       "      <td>1120</td>\n",
       "      <td>NaN</td>\n",
       "      <td>NaN</td>\n",
       "      <td>NaN</td>\n",
       "      <td>1353</td>\n",
       "    </tr>\n",
       "  </tbody>\n",
       "</table>\n",
       "</div>"
      ],
      "text/plain": [
       "       Unnamed: 0   type  description  country   amount  amount_per_day  \\\n",
       "False     70000.0  60645        53819    68880  70000.0         70000.0   \n",
       "True          NaN   9355        16181     1120      NaN             NaN   \n",
       "\n",
       "       claim_type  is_food  \n",
       "False     70000.0    68647  \n",
       "True          NaN     1353  "
      ]
     },
     "execution_count": 35,
     "metadata": {},
     "output_type": "execute_result"
    }
   ],
   "source": [
    "print(df)\n",
    "print()\n",
    "## Checking the values\n",
    "\n",
    "# Summarise number of entries\n",
    "print('Number of records:',df.shape[0])\n",
    "print('Number of columns:',df.shape[1])\n",
    "\n",
    "# Unique values for each column\n",
    "print('\\nNumber of unique values for each column')\n",
    "print(df.select_dtypes(exclude=['floating']).apply(lambda x: x.nunique(), axis=0))\n",
    "\n",
    "# Which columns have nan values\n",
    "print('\\nDo columns have a null value?')\n",
    "print(df.isnull().any())\n",
    "\n",
    "# Count the number of rows that have any null values\n",
    "print('\\nHow many rows have any null values?')\n",
    "print(df.isnull().any(axis=1).value_counts())\n",
    "\n",
    "# Number of null values per column?\n",
    "print('\\nNumber of null values per column?')\n",
    "df.apply(lambda x: x.isnull().value_counts())"
   ]
  },
  {
   "cell_type": "markdown",
   "metadata": {},
   "source": [
    " ### What are the classification labels?"
   ]
  },
  {
   "cell_type": "code",
   "execution_count": 36,
   "metadata": {},
   "outputs": [
    {
     "name": "stdout",
     "output_type": "stream",
     "text": [
      "['non-food' 'food' nan]\n"
     ]
    }
   ],
   "source": [
    "label_names = df['is_food'].unique()\n",
    "print(label_names)"
   ]
  },
  {
   "cell_type": "markdown",
   "metadata": {},
   "source": [
    "### Looks like there are some null values in the label column. Let's find out how many."
   ]
  },
  {
   "cell_type": "code",
   "execution_count": 37,
   "metadata": {},
   "outputs": [
    {
     "name": "stdout",
     "output_type": "stream",
     "text": [
      "1353\n",
      "That is  1.97  percent of the total row count\n"
     ]
    }
   ],
   "source": [
    "print(df['is_food'].isnull().sum())\n",
    "print(\"That is \", (((df['is_food'].isnull().sum())/df['is_food'].count()).round(4))*100, \" percent of the total row count\" )"
   ]
  },
  {
   "cell_type": "markdown",
   "metadata": {},
   "source": [
    "### In fact, let's do the same for all columns"
   ]
  },
  {
   "cell_type": "code",
   "execution_count": 38,
   "metadata": {},
   "outputs": [
    {
     "name": "stdout",
     "output_type": "stream",
     "text": [
      "0\n",
      "0.0  percent of the total row count for  Unnamed: 0  is null\n",
      "\n",
      "\n",
      "\n",
      "9355\n",
      "15.43  percent of the total row count for  type  is null\n",
      "\n",
      "\n",
      "\n",
      "16181\n",
      "30.07  percent of the total row count for  description  is null\n",
      "\n",
      "\n",
      "\n",
      "1120\n",
      "1.63  percent of the total row count for  country  is null\n",
      "\n",
      "\n",
      "\n",
      "0\n",
      "0.0  percent of the total row count for  amount  is null\n",
      "\n",
      "\n",
      "\n",
      "0\n",
      "0.0  percent of the total row count for  amount_per_day  is null\n",
      "\n",
      "\n",
      "\n",
      "0\n",
      "0.0  percent of the total row count for  claim_type  is null\n",
      "\n",
      "\n",
      "\n",
      "1353\n",
      "1.97  percent of the total row count for  is_food  is null\n",
      "\n",
      "\n",
      "\n",
      "The total # rows in the set:  70000\n"
     ]
    }
   ],
   "source": [
    "max_percent_loss = 0\n",
    "for column in df: \n",
    "    print(df[column].isnull().sum())\n",
    "    max_percent_loss += (((df[column].isnull().sum())/df[column].count()).round(4))*100\n",
    "    print((((df[column].isnull().sum())/df[column].count()).round(4))*100, \" percent of the total row count for \", df[column].name ,\" is null\" )\n",
    "    print(\"\\n\\n\")\n",
    "\n",
    "print(\"The total # rows in the set: \", df.shape[0])"
   ]
  },
  {
   "cell_type": "markdown",
   "metadata": {},
   "source": [
    "### The significant values I see here are the percentages of the type and description columns being null. If we drop the null values from the data set, we can lose a MAXIMUM (assuming no overlap between the null values among the rows) of:"
   ]
  },
  {
   "cell_type": "code",
   "execution_count": 39,
   "metadata": {},
   "outputs": [
    {
     "name": "stdout",
     "output_type": "stream",
     "text": [
      "49.1  percent of the rows in the set, resulting in  34370  rows\n"
     ]
    }
   ],
   "source": [
    "print(max_percent_loss,\" percent of the rows in the set, resulting in \", int((max_percent_loss/100)*len(df)),\" rows\")"
   ]
  },
  {
   "cell_type": "markdown",
   "metadata": {},
   "source": [
    "### 50 percent of the data is pretty significant, but even if I drop null values, approximately 35,000 records (likely more than that since there's most likely overlap between the NaN rows) would still remain, which is still a large enough sample to make conclusive inferences/predictions from.\n",
    "\n",
    "\n",
    "### Dropping those NaNs (and the unnamed primary key column)"
   ]
  },
  {
   "cell_type": "code",
   "execution_count": 40,
   "metadata": {
    "collapsed": true
   },
   "outputs": [],
   "source": [
    "orig_len = len(df)\n",
    "\n",
    "# Removing the unnamed column\n",
    "df = df.drop('Unnamed: 0',axis=1)\n",
    "\n",
    "\n",
    "df = df.dropna()"
   ]
  },
  {
   "cell_type": "markdown",
   "metadata": {},
   "source": [
    "### How did this affect my dataset? "
   ]
  },
  {
   "cell_type": "code",
   "execution_count": 41,
   "metadata": {},
   "outputs": [
    {
     "name": "stdout",
     "output_type": "stream",
     "text": [
      "Dataset is now  44524  rows long after dropping NaNs\n",
      "Lost 25476 rows\n"
     ]
    }
   ],
   "source": [
    "print(\"Dataset is now \", len(df), \" rows long after dropping NaNs\")\n",
    "print(\"Lost\", orig_len - len(df),\"rows\" )"
   ]
  },
  {
   "cell_type": "markdown",
   "metadata": {},
   "source": [
    "### Took a bit of a hit, but now that the missing values are taken care of, we can get to work. \n",
    "\n",
    "### I'd like to start by grouping the \"amount\" values (by rounding them)."
   ]
  },
  {
   "cell_type": "code",
   "execution_count": 42,
   "metadata": {},
   "outputs": [
    {
     "name": "stdout",
     "output_type": "stream",
     "text": [
      "Initially, there are 23380 unique amount values\n",
      "After rounding, there are 208 unique amount values\n"
     ]
    }
   ],
   "source": [
    "print(\"Initially, there are\", df.amount.unique().size,\"unique amount values\")\n",
    "df.amount = 10*round(df.amount/10)\n",
    "print(\"After rounding, there are\", df.amount.unique().size,\"unique amount values\")"
   ]
  },
  {
   "cell_type": "markdown",
   "metadata": {
    "collapsed": true
   },
   "source": [
    "### I can do the same with the amount_per_day column values."
   ]
  },
  {
   "cell_type": "code",
   "execution_count": 43,
   "metadata": {},
   "outputs": [
    {
     "name": "stdout",
     "output_type": "stream",
     "text": [
      "Initially, there are 25035 unique amount values\n",
      "After rounding, there are 149 unique amount values\n"
     ]
    }
   ],
   "source": [
    "print(\"Initially, there are\", df.amount_per_day.unique().size,\"unique amount values\")\n",
    "df.amount_per_day = 10*round(df.amount_per_day/10)\n",
    "print(\"After rounding, there are\", df.amount_per_day.unique().size,\"unique amount values\")"
   ]
  },
  {
   "cell_type": "markdown",
   "metadata": {},
   "source": [
    "### Unique values in claim type? "
   ]
  },
  {
   "cell_type": "code",
   "execution_count": 44,
   "metadata": {},
   "outputs": [
    {
     "name": "stdout",
     "output_type": "stream",
     "text": [
      "['Receipt']\n"
     ]
    }
   ],
   "source": [
    "print(df['claim_type'].unique())"
   ]
  },
  {
   "cell_type": "markdown",
   "metadata": {},
   "source": [
    "### INTERESTING. After dropping the rows with NaN, there are NO \"Per diem\"s left in the claim_type column. THIS means that this is constant and thus will not serve as a useful predictor. \n"
   ]
  },
  {
   "cell_type": "markdown",
   "metadata": {},
   "source": [
    "### Now, I'd like to dig in to the string columns a bit. These will be a little more difficult. First, let's see how many unique types/descriptions there are. "
   ]
  },
  {
   "cell_type": "code",
   "execution_count": 45,
   "metadata": {},
   "outputs": [
    {
     "name": "stdout",
     "output_type": "stream",
     "text": [
      "There are 458 unique types and 26195 unique descriptions\n"
     ]
    }
   ],
   "source": [
    "print(\"There are\", df.type.unique().size,\"unique types and\", df.description.unique().size,\"unique descriptions\" )"
   ]
  },
  {
   "cell_type": "markdown",
   "metadata": {},
   "source": [
    "### So, these are pretty high numbers. I have an idea, though. Let's start with type. \n",
    "\n",
    "\n",
    "### Maybe I could use one hot encoding to basically categorize the type based on the essential elements of the string. for ex:\n",
    "### taxi        lunch          parking             rail             air            other          phone                 hotel        dinner          \n",
    "###   0            1                    0                     0               0                  0                  0                          0               0\n",
    "###   0            0                    0                     1               0                  0                  0                          0               0\n",
    "###   0            0                    0                     0                 0                  0                  1                          0               0"
   ]
  },
  {
   "cell_type": "markdown",
   "metadata": {},
   "source": [
    "### I believe that once I do THIS, then the description shouldn't be TOO necessary. I feel that the descriptions would offer redundant information, and thus including them would introduce unnecessary complexity"
   ]
  },
  {
   "cell_type": "markdown",
   "metadata": {},
   "source": [
    "## Now, for the encoding. After doing a bit of scanning on the csv file, I found the following keywords to be the most common (and I believe they'll serve as useful predictors for the is_food classification). Here, I am creating columns for each type_keyword with all rows initialized to zeros."
   ]
  },
  {
   "cell_type": "code",
   "execution_count": 46,
   "metadata": {},
   "outputs": [],
   "source": [
    "df['taxi'] = np.zeros(len(df))\n",
    "df['lunch'] = np.zeros(len(df))\n",
    "df['parking'] = np.zeros(len(df))\n",
    "df['rail'] = np.zeros(len(df))\n",
    "df['air'] = np.zeros(len(df))\n",
    "df['dinner'] = np.zeros(len(df))\n",
    "df['other'] = np.zeros(len(df))\n",
    "df['meals'] = np.zeros(len(df))\n",
    "df['diesel'] = np.zeros(len(df))\n",
    "df['gas'] = np.zeros(len(df))\n",
    "df['breakfast'] = np.zeros(len(df))\n",
    "df['phone'] = np.zeros(len(df))\n",
    "df['health'] = np.zeros(len(df))\n",
    "df['train'] = np.zeros(len(df))\n",
    "df['stationery'] = np.zeros(len(df))\n",
    "df['car'] = np.zeros(len(df))\n",
    "df['rental'] = np.zeros(len(df))\n",
    "df['entertainment'] = np.zeros(len(df))\n",
    "df['lodging'] = np.zeros(len(df))\n",
    "df['transportation'] = np.zeros(len(df))\n",
    "df['laundry'] = np.zeros(len(df))\n",
    "df['housing'] = np.zeros(len(df))\n",
    "df['bus'] = np.zeros(len(df))\n",
    "df['hotel'] = np.zeros(len(df))\n",
    "df['bike'] = np.zeros(len(df))\n",
    "df['motor'] = np.zeros(len(df))\n",
    "df['toll'] = np.zeros(len(df))\n",
    "df['medical'] = np.zeros(len(df))\n",
    "df['personal'] = np.zeros(len(df))\n",
    "df['underground'] = np.zeros(len(df))\n",
    "\n"
   ]
  },
  {
   "cell_type": "markdown",
   "metadata": {},
   "source": [
    "### Now, I'll use parsing to gather indices to set specific rows of each type_keyword column to ONE (meaning this row has this keyword).\n",
    "\n",
    "### Unfortunately, numpy does not define the 'in' operator as an element-wise boolean operation, so I can't just use np.where(substring in string). I need to take another approach. \n",
    "\n",
    "Note: I found this approach on Stack Overflow, posted by Chris Mueller, and I have modified it significantly to fit my objective\n",
    "\n",
    "#### First, convert the type column to an array, then iterate over it with an if condition corresponding to the desired substring"
   ]
  },
  {
   "cell_type": "code",
   "execution_count": 47,
   "metadata": {},
   "outputs": [],
   "source": [
    "# First, \n",
    "type_array = np.array(df.type)\n",
    "\n",
    "taxi_indices = [i for i, type_string in enumerate(type_array) if 'taxi' in type_string.lower()]\n",
    "lunch_indices = [i for i, type_string in enumerate(type_array) if 'lunch' in type_string.lower() or 'lnch' in type_string.lower()]\n",
    "parking_indices = [i for i, type_string in enumerate(type_array) if 'parking' in type_string.lower()]\n",
    "rail_indices = [i for i, type_string in enumerate(type_array) if 'rail' in type_string.lower()]\n",
    "air_indices = [i for i, type_string in enumerate(type_array) if 'air' in type_string.lower()]\n",
    "dinner_indices = [i for i, type_string in enumerate(type_array) if 'dinner' in type_string.lower()]\n",
    "other_indices = [i for i, type_string in enumerate(type_array) if 'other' in type_string.lower() or 'sundry' in type_string.lower()]\n",
    "meal_indices = [i for i, type_string in enumerate(type_array) if 'meal' in type_string.lower()]\n",
    "diesel_indices = [i for i, type_string in enumerate(type_array) if 'diesel' in type_string.lower()]\n",
    "gas_indices = [i for i, type_string in enumerate(type_array) if 'gas' in type_string.lower()]\n",
    "breakfast_indices = [i for i, type_string in enumerate(type_array) if 'breakfast' in type_string.lower()]\n",
    "phone_indices = [i for i, type_string in enumerate(type_array) if 'phone' in type_string.lower()]\n",
    "health_indices = [i for i, type_string in enumerate(type_array) if 'health' in type_string.lower()]\n",
    "train_indices = [i for i, type_string in enumerate(type_array) if 'train' in type_string.lower()]\n",
    "stationery_indices = [i for i, type_string in enumerate(type_array) if 'stationery' in type_string.lower() or 'stationary' in type_string.lower()]\n",
    "car_indices = [i for i, type_string in enumerate(type_array) if 'car' in type_string.lower()]\n",
    "rental_indices = [i for i, type_string in enumerate(type_array) if 'rental' in type_string.lower()]\n",
    "entertainment_indices = [i for i, type_string in enumerate(type_array) if 'entertainment' in type_string.lower()]\n",
    "lodging_indices = [i for i, type_string in enumerate(type_array) if 'lodging' in type_string.lower()]\n",
    "transportation_indices = [i for i, type_string in enumerate(type_array) if 'transport' in type_string.lower() or 'travel' in type_string.lower()]\n",
    "laundry_indices = [i for i, type_string in enumerate(type_array) if 'laundry' in type_string.lower()]\n",
    "housing_indices = [i for i, type_string in enumerate(type_array) if 'housing' in type_string.lower()]\n",
    "bus_indices = [i for i, type_string in enumerate(type_array) if 'bus' in type_string.lower()]\n",
    "hotel_indices = [i for i, type_string in enumerate(type_array) if 'hotel' in type_string.lower()]\n",
    "toll_indices = [i for i, type_string in enumerate(type_array) if 'toll' in type_string.lower()]\n",
    "bike_indices = [i for i, type_string in enumerate(type_array) if 'bike' in type_string.lower()]\n",
    "motor_indices = [i for i, type_string in enumerate(type_array) if 'motor' in type_string.lower()]\n",
    "medical_indices = [i for i, type_string in enumerate(type_array) if 'medical' in type_string.lower()]\n",
    "personal_indices = [i for i, type_string in enumerate(type_array) if 'personal' in type_string.lower()]\n",
    "underground_indices = [i for i, type_string in enumerate(type_array) if 'underground' in type_string.lower()]\n"
   ]
  },
  {
   "cell_type": "markdown",
   "metadata": {},
   "source": [
    "### Now, here, it would definitely be nice to know how much of the data that these keywords actually cover. Hopefully, it covers a lot of the data. I think this ratio of coverage will be a decent indicator of utility for this encoding. \n",
    "### To find out what this coverage ratio is, let's first get the total number of indices and then divide by the total length of the dataframe"
   ]
  },
  {
   "cell_type": "code",
   "execution_count": 48,
   "metadata": {},
   "outputs": [
    {
     "name": "stdout",
     "output_type": "stream",
     "text": [
      "The coverage ratio is 1.0698275087593208\n"
     ]
    }
   ],
   "source": [
    "all_indices = []\n",
    "all_indices.extend(\n",
    "    taxi_indices+\n",
    "    lunch_indices+\n",
    "    parking_indices+\n",
    "    rail_indices+\n",
    "    air_indices+\n",
    "    dinner_indices+\n",
    "    other_indices+\n",
    "    meal_indices+\n",
    "    diesel_indices+\n",
    "    gas_indices+\n",
    "    breakfast_indices+\n",
    "    phone_indices+\n",
    "    health_indices+\n",
    "    train_indices+\n",
    "    stationery_indices+\n",
    "    car_indices+\n",
    "    rental_indices+\n",
    "    entertainment_indices+\n",
    "    toll_indices+\n",
    "    bike_indices+\n",
    "    lodging_indices+\n",
    "    hotel_indices+\n",
    "    transportation_indices+\n",
    "    bus_indices+\n",
    "    laundry_indices+\n",
    "    housing_indices+\n",
    "    motor_indices+\n",
    "    medical_indices+\n",
    "    personal_indices+\n",
    "    underground_indices)\n",
    "coverage_ratio = len(all_indices)/len(df)\n",
    "print(\"The coverage ratio is\", coverage_ratio)"
   ]
  },
  {
   "cell_type": "markdown",
   "metadata": {},
   "source": [
    "## This covers the entire dataset (also contains overlap among the indices, which is why the ratio > 1). "
   ]
  },
  {
   "cell_type": "markdown",
   "metadata": {},
   "source": [
    "### So, now, I'll use these indices to fill in the respective columns with 1s."
   ]
  },
  {
   "cell_type": "code",
   "execution_count": 49,
   "metadata": {},
   "outputs": [
    {
     "name": "stderr",
     "output_type": "stream",
     "text": [
      "/Users/austinhunt/miniconda3/envs/py35/lib/python3.5/site-packages/pandas/core/indexing.py:179: SettingWithCopyWarning: \n",
      "A value is trying to be set on a copy of a slice from a DataFrame\n",
      "\n",
      "See the caveats in the documentation: http://pandas.pydata.org/pandas-docs/stable/indexing.html#indexing-view-versus-copy\n",
      "  self._setitem_with_indexer(indexer, value)\n"
     ]
    }
   ],
   "source": [
    "df['taxi'].iloc[taxi_indices] = 1\n",
    "df['lunch'].iloc[lunch_indices] = 1\n",
    "df['parking'].iloc[parking_indices] = 1\n",
    "df['rail'].iloc[rail_indices] = 1\n",
    "df['air'].iloc[air_indices] = 1\n",
    "df['dinner'].iloc[dinner_indices] = 1\n",
    "df['other'].iloc[other_indices] = 1\n",
    "df['meals'].iloc[meal_indices] = 1\n",
    "df['diesel'].iloc[diesel_indices] = 1\n",
    "df['gas'].iloc[gas_indices] = 1\n",
    "df['breakfast'].iloc[breakfast_indices] = 1\n",
    "df['phone'].iloc[phone_indices] = 1\n",
    "df['health'].iloc[health_indices] = 1\n",
    "df['train'].iloc[train_indices] = 1\n",
    "df['stationery'].iloc[stationery_indices] = 1\n",
    "df['car'].iloc[car_indices] = 1\n",
    "df['rental'].iloc[rental_indices] = 1\n",
    "df['entertainment'].iloc[entertainment_indices] = 1\n",
    "df['toll'].iloc[toll_indices] = 1\n",
    "df['bike'].iloc[bike_indices] = 1\n",
    "df['lodging'].iloc[lodging_indices] = 1\n",
    "df['hotel'].iloc[hotel_indices] = 1\n",
    "df['transportation'].iloc[transportation_indices] = 1\n",
    "df['bus'].iloc[bus_indices] = 1\n",
    "df['laundry'].iloc[laundry_indices] = 1\n",
    "df['housing'].iloc[housing_indices] = 1\n",
    "df['motor'].iloc[motor_indices] = 1\n",
    "df['medical'].iloc[medical_indices] = 1\n",
    "df['personal'].iloc[personal_indices] = 1\n",
    "df['underground'].iloc[underground_indices] = 1\n",
    "\n",
    "\n"
   ]
  },
  {
   "cell_type": "markdown",
   "metadata": {},
   "source": [
    "## Data exploration"
   ]
  },
  {
   "cell_type": "code",
   "execution_count": 50,
   "metadata": {},
   "outputs": [
    {
     "data": {
      "text/plain": [
       "non-food    0.693289\n",
       "food        0.306711\n",
       "Name: is_food, dtype: float64"
      ]
     },
     "execution_count": 50,
     "metadata": {},
     "output_type": "execute_result"
    },
    {
     "data": {
      "image/png": "[encoded data removed]",
      "text/plain": [
       "<matplotlib.figure.Figure at 0x1a09577eb8>"
      ]
     },
     "metadata": {},
     "output_type": "display_data"
    }
   ],
   "source": [
    "# Distribution of is_food\n",
    "df['is_food'].hist()\n",
    "df['is_food'].value_counts(normalize=True)\n",
    "\n"
   ]
  },
  {
   "cell_type": "markdown",
   "metadata": {},
   "source": [
    "### Way more non-food values than food! Good to know. "
   ]
  },
  {
   "cell_type": "markdown",
   "metadata": {},
   "source": [
    "## Definitely should check for negative values in the amount/amount_per_day columns:"
   ]
  },
  {
   "cell_type": "code",
   "execution_count": 51,
   "metadata": {},
   "outputs": [
    {
     "name": "stdout",
     "output_type": "stream",
     "text": [
      "Number of negative values in amount: 8\n",
      "Number of negative values in amount per day: 8\n"
     ]
    }
   ],
   "source": [
    "## Some of the entries have negative values for certain entries which seems strange, what is the count?\n",
    "\n",
    "print('Number of negative values in amount:',df[df['amount']<0]['amount'].count())\n",
    "print('Number of negative values in amount per day:',df[df['amount_per_day']<0]['amount_per_day'].count())"
   ]
  },
  {
   "cell_type": "markdown",
   "metadata": {},
   "source": [
    "### How useful of a predictor is the country column?"
   ]
  },
  {
   "cell_type": "code",
   "execution_count": 52,
   "metadata": {},
   "outputs": [
    {
     "data": {
      "image/png": "[encoded data removed]",
      "text/plain": [
       "<matplotlib.figure.Figure at 0x1a09585550>"
      ]
     },
     "metadata": {},
     "output_type": "display_data"
    },
    {
     "data": {
      "image/png": "[encoded data removed]",
      "text/plain": [
       "<matplotlib.figure.Figure at 0x1a0a46fd30>"
      ]
     },
     "metadata": {},
     "output_type": "display_data"
    }
   ],
   "source": [
    "# Check the predictive power of 'country feature'\n",
    "df.is_food = df.is_food.apply(lambda x: 1 if x == 'food' else 0)\n",
    "\n",
    "df[df['is_food']==1]['country'].value_counts()[0:20].plot(kind='bar', figsize=(5,5),title='food')\n",
    "plt.show()\n",
    "\n",
    "df[df['is_food']==0]['country'].value_counts()[0:20].plot(kind='bar', figsize=(5,5),title='non-food')\n",
    "plt.show()"
   ]
  },
  {
   "cell_type": "markdown",
   "metadata": {},
   "source": [
    "### NOTE: It seems like the Country in which an expense is recorded would be independent of whether that expense is a food/non_food expense. However, after this analysis, there is definitely some dependence. It looks like using UK, France, Germany specifically as predictor variables (one-hot-encoding) could be very useful. "
   ]
  },
  {
   "cell_type": "code",
   "execution_count": 53,
   "metadata": {},
   "outputs": [
    {
     "name": "stderr",
     "output_type": "stream",
     "text": [
      "/Users/austinhunt/miniconda3/envs/py35/lib/python3.5/site-packages/pandas/core/indexing.py:179: SettingWithCopyWarning: \n",
      "A value is trying to be set on a copy of a slice from a DataFrame\n",
      "\n",
      "See the caveats in the documentation: http://pandas.pydata.org/pandas-docs/stable/indexing.html#indexing-view-versus-copy\n",
      "  self._setitem_with_indexer(indexer, value)\n"
     ]
    }
   ],
   "source": [
    "## CREATE THE COLUMNS\n",
    "df['USA'] = np.zeros(len(df))\n",
    "df['France'] = np.zeros(len(df))\n",
    "df['UK'] = np.zeros(len(df))\n",
    "df['Germany'] = np.zeros(len(df))\n",
    "\n",
    "# first convert column in question to an array\n",
    "country_array = np.array(df.country)\n",
    "\n",
    "#create arrays of indices for each country by finding rows that match the country name in the country array\n",
    "USA_indices = [i for i, country_string in enumerate(country_array) if 'united states' in country_string.lower()\n",
    "               or 'usa' in country_string.lower()\n",
    "              or 'the united states' in country_string.lower()]\n",
    "France_indices = [i for i, country_string in enumerate(country_array) if 'france' in country_string.lower()]\n",
    "UK_indices = [i for i, country_string in enumerate(country_array) if 'uk' in country_string.lower()\n",
    "             or 'united kingdom' in country_string.lower()]\n",
    "Germany_indices = [i for i, country_string in enumerate(country_array) if 'germany' in country_string.lower()]\n",
    "\n",
    "#fill in columns with respective indices\n",
    "df['USA'].iloc[USA_indices] = 1\n",
    "df['France'].iloc[France_indices] = 1\n",
    "df['UK'].iloc[UK_indices] = 1\n",
    "df['Germany'].iloc[Germany_indices] = 1\n"
   ]
  },
  {
   "cell_type": "markdown",
   "metadata": {},
   "source": [
    "### I think this is a good point to start considering a model. \n",
    "### We have a very large number of samples (even after removing the NaNs), and we're predicting the value of a categorical variable using labeled data, and we have less than 100,000 samples, so I'm going to try using the Linear Support Vector Classification model. I'm basing this decision on a very helpful diagram provided here:\n",
    "\n",
    "https://stackoverflow.com/questions/2595176/which-machine-learning-classifier-to-choose-in-general\n",
    "\n",
    "\n",
    "### Now, I want to RANDOMLY split the data into training and testing sets!\n",
    "\n",
    "### Then split the training set into the predictors X and the response/target Y (multiple columns should be dropped from the predictors; type,description, country and claim_type namely, since these data have been either translated to alternative numeric forms or have been disregarded as non-useful variables.\n",
    "\n",
    "\n",
    "### Do the same for the testing set. "
   ]
  },
  {
   "cell_type": "code",
   "execution_count": 54,
   "metadata": {},
   "outputs": [
    {
     "name": "stdout",
     "output_type": "stream",
     "text": [
      "The training set contains  35495 rows. ( 79.72104932171413 % of the original data )\n",
      "\n",
      "The testing set contains  9029 rows. ( 20.278950678285867 % of the original data )\n"
     ]
    }
   ],
   "source": [
    "msk = np.random.rand(len(df)) < 0.8\n",
    "\n",
    "trainingSet = df[msk]\n",
    "\n",
    "testingSet = df[~msk]\n",
    "\n",
    "print(\"The training set contains \" ,len(trainingSet), \"rows. (\", len(trainingSet)/len(df)*100,\"% of the original data )\")\n",
    "print()\n",
    "print(\"The testing set contains \" ,len(testingSet), \"rows. (\",len(testingSet)/len(df)*100,\"% of the original data )\")\n",
    "\n"
   ]
  },
  {
   "cell_type": "code",
   "execution_count": 55,
   "metadata": {
    "collapsed": true
   },
   "outputs": [],
   "source": [
    "from sklearn.svm import LinearSVC"
   ]
  },
  {
   "cell_type": "code",
   "execution_count": 56,
   "metadata": {
    "collapsed": true
   },
   "outputs": [],
   "source": [
    "Y_train = trainingSet['is_food']\n",
    "\n",
    "X_train = trainingSet[['amount','amount_per_day','taxi','lunch','parking',\n",
    "                 'rail','air','dinner','other','meals','diesel','gas','breakfast',\n",
    "                 'phone','health','train','stationery','car','rental','entertainment',\n",
    "                 'lodging','transportation','laundry','housing','motor','bus','toll','bike',\n",
    "                       'hotel','medical','personal','underground']]\n",
    "\n",
    "Y_test = testingSet['is_food']\n",
    "\n",
    "X_test = testingSet[['amount','amount_per_day','taxi','lunch','parking',\n",
    "                 'rail','air','dinner','other','meals','diesel','gas','breakfast',\n",
    "                 'phone','health','train','stationery','car','rental','entertainment',\n",
    "                 'lodging','transportation','laundry','housing','motor','bus','toll',\n",
    "                     'bike','hotel','medical','personal','underground']]\n",
    "\n",
    "\n"
   ]
  },
  {
   "cell_type": "code",
   "execution_count": 57,
   "metadata": {},
   "outputs": [
    {
     "data": {
      "text/plain": [
       "LinearSVC(C=1.0, class_weight=None, dual=True, fit_intercept=True,\n",
       "     intercept_scaling=1, loss='squared_hinge', max_iter=1000,\n",
       "     multi_class='ovr', penalty='l2', random_state=0, tol=0.0001,\n",
       "     verbose=0)"
      ]
     },
     "execution_count": 57,
     "metadata": {},
     "output_type": "execute_result"
    }
   ],
   "source": [
    "### Now, I can create the classifier and fit it to the training data set. \n",
    "classifier = LinearSVC(random_state=0)\n",
    "classifier.fit(X_train,Y_train)"
   ]
  },
  {
   "cell_type": "markdown",
   "metadata": {},
   "source": [
    "### Now, I would like to determine the accuracy of this model by testing it on the test data (the model's \"score\" method does this)"
   ]
  },
  {
   "cell_type": "code",
   "execution_count": 58,
   "metadata": {},
   "outputs": [
    {
     "name": "stdout",
     "output_type": "stream",
     "text": [
      "Classifier is 83.66 % accurate\n"
     ]
    }
   ],
   "source": [
    "LSVC_score = classifier.score(X_test,Y_test)\n",
    "print(\"Classifier is\", (LSVC_score.round(4))*100,\"% accurate\")"
   ]
  },
  {
   "cell_type": "markdown",
   "metadata": {},
   "source": [
    "### It seems to be ranging between 85 and 95% accurate, so what I'd like to do is let this fitting and scoring process iterate a few times and then get the average score to get a better idea of how appropriate this model is for this data. My hope is that the average leans more toward the higher end of the accuracy range I'm noticing. \n",
    "\n",
    "### Setting up a for loop that will iteratively: \n",
    "#### 1. split the dataframe into training and test subsets\n",
    "#### 2. split each of those subsets into the necessary X and Y subsets\n",
    "#### 3. Fit the model to the training data\n",
    "#### 4. Calculate the accuracy of the model\n",
    "#### 5. append the accuracy to accuracy list, which will be averaged at the end of the loop"
   ]
  },
  {
   "cell_type": "code",
   "execution_count": 59,
   "metadata": {},
   "outputs": [
    {
     "name": "stdout",
     "output_type": "stream",
     "text": [
      "Average accuracy for Linear SVC model: 0.91946092511\n"
     ]
    }
   ],
   "source": [
    "##initialize a list, to be list of accuracies, then average the list at the end\n",
    "accuracy_list = []\n",
    "for i in range(0,5): \n",
    "    # 1. train/test split\n",
    "    msk = np.random.rand(len(df)) < 0.8\n",
    "    trainingSet = df[msk]\n",
    "    testingSet = df[~msk]\n",
    "    # 2. x/y split for each of the train and test subsets\n",
    "    Y_train = trainingSet['is_food']\n",
    "\n",
    "    X_train = trainingSet[['amount','amount_per_day','taxi','lunch','parking',\n",
    "                     'rail','air','dinner','other','meals','diesel','gas','breakfast',\n",
    "                     'phone','health','train','stationery','car','rental','entertainment',\n",
    "                     'lodging','transportation','laundry','housing','motor','bus','toll',\n",
    "                           'bike','medical','USA','France','UK','Germany','personal','underground']]\n",
    "\n",
    "    Y_test = testingSet['is_food']\n",
    "\n",
    "    X_test = testingSet[['amount','amount_per_day','taxi','lunch','parking',\n",
    "                     'rail','air','dinner','other','meals','diesel','gas','breakfast',\n",
    "                     'phone','health','train','stationery','car','rental','entertainment',\n",
    "                     'lodging','transportation','laundry','housing','motor','bus','toll',\n",
    "                         'bike','medical','USA','France','UK','Germany','personal','underground']]\n",
    "\n",
    "    # 3. fit new model to training data\n",
    "    classifier = LinearSVC(random_state=0)\n",
    "    classifier.fit(X_train,Y_train)\n",
    "    \n",
    "    \n",
    "    # 4. calculate accuracy \n",
    "    LSVC_score = classifier.score(X_test,Y_test)\n",
    "    \n",
    "    # 5. append this score to list \n",
    "    accuracy_list.append(LSVC_score)\n",
    "    \n",
    "avg_acc_lsvc_initial = sum(accuracy_list)/len(accuracy_list)\n",
    "\n",
    "print(\"Average accuracy for Linear SVC model:\",avg_acc_lsvc_initial)"
   ]
  },
  {
   "cell_type": "markdown",
   "metadata": {},
   "source": [
    "### I'm really interested to see how useful the non-type variables (amount, amount_per_day, claimTypeCode, and country) actually are. \n",
    "\n",
    "### From what I can tell just by scanning the csv file, it looks like amount and amount per day are significantly redundant, AND it doesn't seem like there is a correlation between either of them and the is_food value. Both high and low amounts are associated with is_food \n",
    "\n",
    "\n",
    "# So, I'm going to repeat the above code segment (the loop) but this time, I'm only going to include the one-hot-encoded columns for the original type column because I feel that this is the most significantly useful predictor."
   ]
  },
  {
   "cell_type": "code",
   "execution_count": 60,
   "metadata": {},
   "outputs": [
    {
     "name": "stdout",
     "output_type": "stream",
     "text": [
      "Average accuracy for Linear SVC model (with ONLY type and Country): 0.955019647201\n"
     ]
    }
   ],
   "source": [
    "##initialize a list, to be list of accuracies, then average the list at the end\n",
    "accuracy_list = []\n",
    "for i in range(0,5): \n",
    "    # 1. train/test split\n",
    "    msk = np.random.rand(len(df)) < 0.8\n",
    "    trainingSet = df[msk]\n",
    "    testingSet = df[~msk]\n",
    "    # 2. x/y split for each of the train and test subsets\n",
    "    Y_train = trainingSet['is_food']\n",
    "\n",
    "    X_train = trainingSet[['taxi','lunch','parking',\n",
    "                     'rail','air','dinner','other','meals','diesel','gas','breakfast',\n",
    "                     'phone','health','train','stationery','car','rental','entertainment',\n",
    "                     'lodging','transportation','laundry','housing','motor','bus','toll',\n",
    "                     'bike','medical','personal','underground','USA','France','UK','Germany']]\n",
    "\n",
    "    Y_test = testingSet['is_food']\n",
    "\n",
    "    X_test = testingSet[['taxi','lunch','parking','rail','air','dinner','other',\n",
    "                         'meals','diesel','gas','breakfast',\n",
    "                     'phone','health','train','stationery','car','rental','entertainment',\n",
    "                     'lodging','transportation','laundry','housing','motor','bus','toll',\n",
    "                     'bike','medical','personal','underground','USA','France','UK','Germany']]\n",
    "\n",
    "    # 3. fit new model to training data\n",
    "    classifier = LinearSVC(random_state=0)\n",
    "    classifier.fit(X_train,Y_train)\n",
    "    \n",
    "    \n",
    "    # 4. calculate accuracy \n",
    "    LSVC_score = classifier.score(X_test,Y_test)\n",
    "    \n",
    "    # 5. append this score to list \n",
    "    accuracy_list.append(LSVC_score)\n",
    "    \n",
    "avg_acc_lsvc_after1 = sum(accuracy_list)/len(accuracy_list)\n",
    "\n",
    "print(\"Average accuracy for Linear SVC model (with ONLY type and Country):\",avg_acc_lsvc_after1)"
   ]
  },
  {
   "cell_type": "code",
   "execution_count": 61,
   "metadata": {},
   "outputs": [
    {
     "name": "stdout",
     "output_type": "stream",
     "text": [
      "Average accuracy for Linear SVC model (with ONLY TYPE): 0.955571689339\n"
     ]
    }
   ],
   "source": [
    "##initialize a list, to be list of accuracies, then average the list at the end\n",
    "accuracy_list = []\n",
    "for i in range(0,5): \n",
    "    # 1. train/test split\n",
    "    msk = np.random.rand(len(df)) < 0.8\n",
    "    trainingSet = df[msk]\n",
    "    testingSet = df[~msk]\n",
    "    # 2. x/y split for each of the train and test subsets\n",
    "    Y_train = trainingSet['is_food']\n",
    "\n",
    "    X_train = trainingSet[['taxi','lunch','parking',\n",
    "                     'rail','air','dinner','other','meals','diesel','gas','breakfast',\n",
    "                     'phone','health','train','stationery','car','rental','entertainment',\n",
    "                     'lodging','transportation','laundry','housing','motor','bus','toll',\n",
    "                     'bike','medical','personal','underground']]\n",
    "\n",
    "    Y_test = testingSet['is_food']\n",
    "\n",
    "    X_test = testingSet[['taxi','lunch','parking','rail','air','dinner','other',\n",
    "                         'meals','diesel','gas','breakfast',\n",
    "                     'phone','health','train','stationery','car','rental','entertainment',\n",
    "                     'lodging','transportation','laundry','housing','motor','bus','toll',\n",
    "                     'bike','medical','personal','underground']]\n",
    "\n",
    "    # 3. fit new model to training data\n",
    "    classifier = LinearSVC(random_state=0)\n",
    "    classifier.fit(X_train,Y_train)\n",
    "    \n",
    "    \n",
    "    # 4. calculate accuracy \n",
    "    LSVC_score = classifier.score(X_test,Y_test)\n",
    "    \n",
    "    # 5. append this score to list \n",
    "    accuracy_list.append(LSVC_score)\n",
    "    \n",
    "avg_acc_lsvc_after2 = sum(accuracy_list)/len(accuracy_list)\n",
    "\n",
    "print(\"Average accuracy for Linear SVC model (with ONLY TYPE):\",avg_acc_lsvc_after2)"
   ]
  },
  {
   "cell_type": "markdown",
   "metadata": {},
   "source": [
    "# Displaying average accuracy differences between the two LSVC models (where the difference is the features considered)"
   ]
  },
  {
   "cell_type": "code",
   "execution_count": 62,
   "metadata": {},
   "outputs": [
    {
     "data": {
      "image/png": "[encoded data removed]",
      "text/plain": [
       "<matplotlib.figure.Figure at 0x1a0888eb38>"
      ]
     },
     "metadata": {},
     "output_type": "display_data"
    }
   ],
   "source": [
    "fig, ax = plt.subplots()\n",
    "width = 0.5\n",
    "\n",
    "ax.bar([1,3,5],[avg_acc_lsvc_initial,avg_acc_lsvc_after1,avg_acc_lsvc_after2], width,color=['green','orange','grey'])\n",
    "ax.set_title(\"Linear Support Vector Classification Model\")\n",
    "ax.set_xlabel('Features Considered')\n",
    "ax.set_ylabel('Accuracy')\n",
    "ax.set_xticks([1,3,5])\n",
    "label1 = \"amt,\\namt_per_day\\n,type,\\ncountry:\\n \" + str((avg_acc_lsvc_initial.round(4))*100) + \"%\"\n",
    "label2 = \"type,\\ncountry:\\n \" + str((avg_acc_lsvc_after1.round(4))*100) + \"%\"\n",
    "label3 = \"type:\\n \" + str((avg_acc_lsvc_after2.round(4))*100) + \"%\"\n",
    "ax.set_xticklabels([label1,label2,label3])\n",
    "plt.show()\n",
    "\n"
   ]
  },
  {
   "cell_type": "markdown",
   "metadata": {},
   "source": [
    "### it seems that exclusively using the type variable as a predictor leads to more accurate classifications, the model consistently tops out around 95% accuracy only using type, while topping out on average around 90% accuracy when using type, amount, amount_per_day\n",
    "\n",
    "### Based on the diagram I'm referencing (link provided above), it seems that the k nearest neighbors model may be appropriate for the data in consideration (if we go ahead and say that the LSVC model \"isn't working\"), so I will now try this model (KNN) and perform the same sort of accuracy assessment.\n"
   ]
  },
  {
   "cell_type": "code",
   "execution_count": 63,
   "metadata": {},
   "outputs": [
    {
     "name": "stdout",
     "output_type": "stream",
     "text": [
      "Average accuracy for KNN model AMT,AMT PER DAY, TYPE , COUNTRY: 0.967799030008\n"
     ]
    }
   ],
   "source": [
    "from sklearn.neighbors import KNeighborsClassifier\n",
    "##initialize a list, to be list of accuracies, then average the list at the end\n",
    "accuracy_list = []\n",
    "for i in range(0,5): \n",
    "    # 1. train/test split\n",
    "    msk = np.random.rand(len(df)) < 0.8\n",
    "    trainingSet = df[msk]\n",
    "    testingSet = df[~msk]\n",
    "    # 2. x/y split for each of the train and test subsets\n",
    "    Y_train = trainingSet['is_food']\n",
    "\n",
    "    X_train = trainingSet[['amount','amount_per_day','taxi','lunch','parking',\n",
    "                     'rail','air','dinner','other','meals','diesel','gas','breakfast',\n",
    "                     'phone','health','train','stationery','car','rental','entertainment',\n",
    "                     'lodging','transportation','laundry','housing','motor','bus','toll',\n",
    "                     'bike','medical','personal','underground','USA','France','UK','Germany']]\n",
    "\n",
    "    Y_test = testingSet['is_food']\n",
    "\n",
    "    X_test = testingSet[['amount','amount_per_day','taxi','lunch','parking',\n",
    "                     'rail','air','dinner','other','meals','diesel','gas','breakfast',\n",
    "                     'phone','health','train','stationery','car','rental','entertainment',\n",
    "                     'lodging','transportation','laundry','housing','motor','bus','toll',\n",
    "                     'bike','medical','personal','underground','USA','France','UK','Germany']]\n",
    "\n",
    "    # 3. fit new model to training data\n",
    "    neigh = KNeighborsClassifier(n_neighbors=3)\n",
    "    neigh.fit(X_train,Y_train)\n",
    "    \n",
    "    \n",
    "    # 4. calculate accuracy \n",
    "    neigh_score = neigh.score(X_test,Y_test)\n",
    "    \n",
    "    # 5. append this score to list \n",
    "    accuracy_list.append(neigh_score)\n",
    "    \n",
    "avg_acc_knn_initial = sum(accuracy_list)/len(accuracy_list)\n",
    "\n",
    "print(\"Average accuracy for KNN model AMT,AMT PER DAY, TYPE , COUNTRY:\",avg_acc_knn_initial)"
   ]
  },
  {
   "cell_type": "markdown",
   "metadata": {},
   "source": [
    "### This is interesting! It seems that the topping out point for accuracy of the LSVC model is the same accuracy value that KNN hovers around both with and without non-type variables. (without non-type variables is seen below for KNN)"
   ]
  },
  {
   "cell_type": "code",
   "execution_count": 64,
   "metadata": {},
   "outputs": [
    {
     "name": "stdout",
     "output_type": "stream",
     "text": [
      "Average accuracy for KNN model with ONLY TYPE AND COUNTRY: 0.95380418013\n"
     ]
    }
   ],
   "source": [
    "accuracy_list = []\n",
    "for i in range(0,5): \n",
    "    # 1. train/test split\n",
    "    msk = np.random.rand(len(df)) < 0.8\n",
    "    trainingSet = df[msk]\n",
    "    testingSet = df[~msk]\n",
    "    # 2. x/y split for each of the train and test subsets\n",
    "    Y_train = trainingSet['is_food']\n",
    "\n",
    "    X_train = trainingSet[['taxi','lunch','parking','rail','air','dinner','other',\n",
    "                           'meals','diesel','gas','breakfast',\n",
    "                     'phone','health','train','stationery','car','rental','entertainment',\n",
    "                     'lodging','transportation','laundry','housing','motor','bus','toll',\n",
    "                    'bike','medical','personal','underground','USA','France','UK','Germany']]\n",
    "\n",
    "    Y_test = testingSet['is_food']\n",
    "\n",
    "    X_test = testingSet[['taxi','lunch','parking',  'rail','air','dinner','other',\n",
    "                         'meals','diesel','gas','breakfast',\n",
    "                     'phone','health','train','stationery','car','rental','entertainment',\n",
    "                     'lodging','transportation','laundry','housing','motor','bus','toll',\n",
    "                    'bike','medical','personal','underground','USA','France','UK','Germany']]\n",
    "\n",
    "    # 3. fit new model to training data\n",
    "    neigh = KNeighborsClassifier(n_neighbors=3)\n",
    "    neigh.fit(X_train,Y_train)\n",
    "    \n",
    "    \n",
    "    # 4. calculate accuracy \n",
    "    neigh_score = neigh.score(X_test,Y_test)\n",
    "    \n",
    "    # 5. append this score to list \n",
    "    accuracy_list.append(neigh_score)\n",
    "    \n",
    "avg_acc_knn_after1 = sum(accuracy_list)/len(accuracy_list)\n",
    "\n",
    "print(\"Average accuracy for KNN model with ONLY TYPE AND COUNTRY:\",avg_acc_knn_after1)"
   ]
  },
  {
   "cell_type": "code",
   "execution_count": 65,
   "metadata": {},
   "outputs": [
    {
     "name": "stdout",
     "output_type": "stream",
     "text": [
      "Average accuracy for KNN model with ONLY TYPE: 0.95999961592\n"
     ]
    }
   ],
   "source": [
    "accuracy_list = []\n",
    "for i in range(0,5): \n",
    "    # 1. train/test split\n",
    "    msk = np.random.rand(len(df)) < 0.8\n",
    "    trainingSet = df[msk]\n",
    "    testingSet = df[~msk]\n",
    "    # 2. x/y split for each of the train and test subsets\n",
    "    Y_train = trainingSet['is_food']\n",
    "\n",
    "    X_train = trainingSet[['taxi','lunch','parking','rail','air','dinner','other',\n",
    "                           'meals','diesel','gas','breakfast',\n",
    "                     'phone','health','train','stationery','car','rental','entertainment',\n",
    "                     'lodging','transportation','laundry','housing','motor','bus','toll',\n",
    "                    'bike','medical','personal','underground']]\n",
    "\n",
    "    Y_test = testingSet['is_food']\n",
    "\n",
    "    X_test = testingSet[['taxi','lunch','parking',  'rail','air','dinner','other',\n",
    "                         'meals','diesel','gas','breakfast',\n",
    "                     'phone','health','train','stationery','car','rental','entertainment',\n",
    "                     'lodging','transportation','laundry','housing','motor','bus','toll',\n",
    "                    'bike','medical','personal','underground']]\n",
    "\n",
    "    # 3. fit new model to training data\n",
    "    neigh = KNeighborsClassifier(n_neighbors=3)\n",
    "    neigh.fit(X_train,Y_train)\n",
    "    \n",
    "    \n",
    "    # 4. calculate accuracy \n",
    "    neigh_score = neigh.score(X_test,Y_test)\n",
    "    \n",
    "    # 5. append this score to list \n",
    "    accuracy_list.append(neigh_score)\n",
    "    \n",
    "avg_acc_knn_after2 = sum(accuracy_list)/len(accuracy_list)\n",
    "\n",
    "print(\"Average accuracy for KNN model with ONLY TYPE:\",avg_acc_knn_after2)"
   ]
  },
  {
   "cell_type": "markdown",
   "metadata": {},
   "source": [
    "# Displaying average accuracy differences between the two KNN models (where the difference is the features considered)"
   ]
  },
  {
   "cell_type": "code",
   "execution_count": 66,
   "metadata": {},
   "outputs": [
    {
     "data": {
      "image/png": "[encoded data removed]",
      "text/plain": [
       "<matplotlib.figure.Figure at 0x1a088689e8>"
      ]
     },
     "metadata": {},
     "output_type": "display_data"
    }
   ],
   "source": [
    "fig, ax = plt.subplots()\n",
    "width = 0.5\n",
    "\n",
    "ax.bar([1,3,5],[avg_acc_knn_initial,avg_acc_knn_after1,avg_acc_knn_after2], width,color=['purple','pink','blue'])\n",
    "ax.set_title(\"K Nearest Neighbors Model\")\n",
    "ax.set_xlabel('Features Considered')\n",
    "ax.set_ylabel('Accuracy')\n",
    "ax.set_xticks([1,3,5])\n",
    "\n",
    "label1 = \"amt,\\namt_per_day,\\ntype,\\ncountry:\\n \" + str((avg_acc_knn_initial.round(4))*100) + \"%\"\n",
    "label2 = \"type,\\ncountry\\n \" + str((avg_acc_lsvc_after1.round(4))*100) + \"%\"\n",
    "label3 = \"ONLY typen \" + str((avg_acc_lsvc_after2.round(4))*100) + \"%\"\n",
    "\n",
    "ax.set_xticklabels([label1,label2,label3])\n",
    "plt.show()\n",
    "\n"
   ]
  },
  {
   "cell_type": "markdown",
   "metadata": {},
   "source": [
    "### It seems both KNN models (with non type vars and without non type vars) are both averaging about 96% accuracy. So naturally, if that's the case, it makes sense to use the SIMPLER model (less predictors) if both are equally accurate. \n"
   ]
  },
  {
   "cell_type": "markdown",
   "metadata": {},
   "source": [
    "## Required: \"Create a subsection in your notebook that describes what new things you've added to the demo (10 points).\"\n",
    "\n",
    "### 1. I added the one-hot-encoding of the 'type' feature; I used string parsing to create new columns corresponding to the most common substrings of the type feature like meals, lunch, breakfast, dinner, taxi, etcetera. This allowed me really take advantage of the utility of the type feature as a predictor. \n",
    "\n",
    "### 2. I also used one-hot-encoding for the 'country' feature, but I only created a column for each of those countries with the greatest predictive values. \n",
    "\n",
    "### 3. I should note here that it doesn't seem like this one hot encoding of the country column really did much for either of the models' (KNN or LSVC) accuracy. This can be seen in comparing the second and third bars on each of the two graphs I provided.\n",
    "\n",
    "### 4. I iteratively split the dataframe into training/testing subsets (I do this splitting randomly, so different scores are obtained each iteration), I fitted different models using those training subsets, and then I used the respective .score() method for those models (by passing in the test subset) to test how accurate the model was at predicting the target values after being fitted. \n",
    "\n",
    "### 5. I provided graphs displaying the differences in model accuracy based on the features that the models were considering. I provided a single graph for each of the two main models I used (KNN and Linear SVC). I chose these models because an explanation I was referencing (cited above) indicated these models would be the most appropriate for the data under consideration. \n",
    "\n",
    "### 6. The purpose of my iterative approach for each model was to gain more insight on how accurate the model actually was. I train and test each model 5 times and then average their scores (their accuracies) instead of just pulling the first score and then making some shallow comparison. \n",
    "\n",
    "### 7. Note: This code does take a little bit of time to execute because of the loops. \n",
    "\n",
    "# OVERALL: \n",
    "## The models I built seem to be very useful! Both KNN and LSVC seem to hover around 95% accuracy! \n",
    "\n",
    "\n",
    "\n"
   ]
  },
  {
   "cell_type": "code",
   "execution_count": null,
   "metadata": {
    "collapsed": true
   },
   "outputs": [],
   "source": []
  }
 ],
 "metadata": {
  "kernelspec": {
   "display_name": "Python 3",
   "language": "python",
   "name": "python3"
  },
  "language_info": {
   "codemirror_mode": {
    "name": "ipython",
    "version": 3
   },
   "file_extension": ".py",
   "mimetype": "text/x-python",
   "name": "python",
   "nbconvert_exporter": "python",
   "pygments_lexer": "ipython3",
   "version": "3.5.4"
  }
 },
 "nbformat": 4,
 "nbformat_minor": 2
}
